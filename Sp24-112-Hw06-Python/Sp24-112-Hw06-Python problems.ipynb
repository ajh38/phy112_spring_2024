{
 "cells": [
  {
   "cell_type": "markdown",
   "metadata": {},
   "source": [
    "# Sp24-112-Hw06-Python problems"
   ],
   "id": "0"
  },
  {
   "cell_type": "markdown",
   "metadata": {},
   "source": [
    "## Problem 5.3: Ehrenfests' Fleas"
   ],
   "id": "1"
  },
  {
   "cell_type": "markdown",
   "metadata": {},
   "source": [
    "### Learning objectives\n",
    "In this question you will:\n",
    "\n",
    "- study another binary choice model\n",
    "- simulate how random processes establish and maintain equilibrium\n"
   ],
   "id": "2"
  },
  {
   "cell_type": "markdown",
   "id": "3",
   "metadata": {
    "flags": [
     "problems",
     "solutions"
    ]
   },
   "source": [
    "I regularly dogsit for two dogs, Lola (the Australian Shepherd whose pictures are at the end of my lecture videos) and Pasta (an adorable terrier mix).  ",
"Being a physicist, I of course have to use them for thought experiements, so I will lend them to the Ehrenfests so we can study another binary choice system like the random walk or the paramagnet.  ",
"Suppose there are a total of $N$ fleas (oh no!) distributed between the two dogs: $N_1$ on Dog 1 (Lola), and $N_2 = N - N_1$ on Dog 2 (Pasta).  ",
"A microstate of the system will be a specification of which dog each of the $N$ fleas are on, $x = \\{ x_1, x_2, ... x_N \\}$, where $i=1,2,\\cdots,N$ indexes the $N$ fleas and $x_i \\in\\{1,2\\}$ indicates whether the flea is on Dog 1 or Dog 2.  ",
"The macrostates will be specified by $N_1$, the number of fleas on Lola (or, equivalently, $N_2$, the number of fleas on Pasta).  ",
"Because this is a binary choice system, you already know the resulting multiplicity $\\Omega(N_1, N)$.\n",
    "\n",
    "In this problem we are going to simulate some simple dynamics to show how equilibrium is approached and how entropy evolves."
   ]
  },
  {
   "cell_type": "code",
   "execution_count": 1,
   "id": "4",
   "metadata": {
    "flags": [
     "problems",
     "solutions"
    ]
   },
   "outputs": [],
   "source": [
    "import numpy as np\n",
    "from matplotlib import pyplot as plt"
   ]
  },
  {
   "cell_type": "markdown",
   "metadata": {},
   "source": [
    "### 5.3(a). "
   ],
   "id": "5"
  },
  {
   "cell_type": "markdown",
   "id": "6",
   "metadata": {
    "flags": [
     "problems",
     "solutions"
    ]
   },
   "source": [
    "Consider the following random process: At each time-step, one flea is randomly picked out of the $N$ (this is equivalent to randomly choosing an integer evenly distributed between 1 and $N$).  ",
"This flea `hops' from the dog it's currently on to the other (so $x_i$ flips from 1 to 2 or 2 to 1).  ",
"If $x(t)$ is the configuration of fleas at time $t$, this defines a probabilistic process for updating the flea configuration, $x(t) \\to x(t+1)$.  ",
"Write a function which takes as input length-$N$ array $x$, and which returns an updated configuration of fleas."
   ]
  },
  {
   "cell_type": "code",
   "execution_count": null,
   "id": "7",
   "metadata": {
    "flags": [
     "problems"
    ]
   },
   "outputs": [],
   "source": [
    "def hop_flea(x):\n",
    "\n",
    "    N = len(x)\n",
    "\n",
    "    #do a random hop\n",
    "\n",
    "    return x"
   ]
  },
  {
   "cell_type": "code",
   "metadata": {},
   "source": [
    "#Write your answer here"
   ],
   "outputs": [],
   "execution_count": null,
   "id": "8"
  },
  {
   "cell_type": "markdown",
   "metadata": {},
   "source": [
    "### 5.3(b). "
   ],
   "id": "9"
  },
  {
   "cell_type": "markdown",
   "id": "10",
   "metadata": {
    "flags": [
     "problems",
     "solutions"
    ]
   },
   "source": [
    "Let's choose $N=50$ to start.  Let the initial configuration $x(0)$ have all $N$ fleas are on Dog 1 (sorry, Lola!).  ",
    "Use a for loop to succesively `hop fleas' between the dogs for $T = 20N$ time steps.  ",
    "At each iteration, output and record the number of fleas on dog 1, $N_1(t)$. \n",
    "Plot $N_1(t)$ vs $t$. How would you describe its behavior?  ",
    "Letting $S = \\ln \\Omega(N_1, N)$ be the dimensionless version of entropy, produce a second plot showing $S(t)$. \n",
    "\n",
    "Repeat for $N=100,200,500$. What general trend do you notice for the entropy?  ",
    "In particular, does the entropy *tend* to increase or does is *always* increase in each step?"
   ]
  },
  {
   "cell_type": "code",
   "metadata": {},
   "source": [
    "#Write your answer here"
   ],
   "outputs": [],
   "execution_count": null,
   "id": "11"
  },
  {
   "cell_type": "markdown",
   "metadata": {},
   "source": [
    "### 5.3(c). "
   ],
   "id": "12"
  },
  {
   "cell_type": "markdown",
   "id": "13",
   "metadata": {
    "flags": [
     "problems",
     "solutions"
    ]
   },
   "source": [
    "Now, starting from the same $x(0)$ for $N=50$, evolve for $T=10000$ steps, recording $N_1(t)$ as before.  ",
    "Plot a histogram of $N_1(t)$ for the last $T/2$ time steps.  ",
    "Using what you know about random walks / binary systems, compare it against the expected probability distrubiton $P(N_1, N)$ (either the exact one, or within the Gaussian approximation).  \n",
    "\n",
    "(*Note to ponder: Why do you think we ignored the data for the first $T/2$ time steps?)*\n"
   ]
  },
  {
   "cell_type": "code",
   "metadata": {},
   "source": [
    "#Write your answer here"
   ],
   "outputs": [],
   "execution_count": null,
   "id": "14"
  },
  {
   "cell_type": "markdown",
   "metadata": {},
   "source": [
    "### 5.3(d). Extra Part (Not for Credit)"
   ],
   "id": "15"
  },
  {
   "cell_type": "markdown",
   "id": "16",
   "metadata": {
    "flags": [
     "problems",
     "solutions"
    ]
   },
   "source": [
    "Formally, the above process defines what we call a \"Markov Process.\"  ",
    "A Markov process is just a random sequence at each point in time, the probability of a state at the next moment in time depends only on the current state, not the past history.  ",
    "We call the set of probabilities for a microstate $x(t)$ at time $t$ to transition to microstate $x(t+1)$ at time $t+1$ the \"transition matrix\" $\\mathcal{T}(x(t+1) | x(t))$.  ",
    "You can think of it as a matrix because if you label the microstates, $n = x(t+1)$ and $m = x(t)$, then we read it like a matrix $\\mathcal{T}_{nm}$ (*Note that the indices $n$, $m$ run from 1 all the way up to $2^N$ since that is the total number of microstates in our flea system*).  \n",
    "\n",
    "Determine $\\mathcal{T}(x(t+1) | x(t))$? Your answer can read like an if-else statement, e.g. \"If $x(t+1)$ relates to $x(t)$ in this way, $\\mathcal{T}$ is blah, otherwise blech\".  ",
    "What are the dimensions of this matrix?  ",
    "For $N=50$, would your datahub server have enough RAM to store it?\n"
   ]
  },
  {
   "cell_type": "markdown",
   "metadata": {},
   "source": [
    "*Answer given with the main problem set.*"
   ],
   "id": "17"
  },
  {
   "cell_type": "markdown",
   "metadata": {},
   "source": [
    "### 5.3(e). Extra Part (Not for Credit)"
   ],
   "id": "18"
  },
  {
   "cell_type": "markdown",
   "id": "19",
   "metadata": {
    "flags": [
     "problems",
     "solutions"
    ]
   },
   "source": [
    "In the above simulation, we keep track of the entire microstate.  A quicker way to go about things would be to just keep track of the *macrostate* $N_1$.  ",
    "Assuming the same flea hopping procedure as above, determine the transition matrix between *macrostates*, $\\mathcal{T}(N_1(t+1) | N_1(t) )$?  ",
    "E.g., if there are $N_1(t)$ fleas on dog 1 at time $t$, and then you do hop_fleas, what is the probability to now have $N_1(t+1)$?  \n",
    "\n",
    "(*Note: This is now a *much* smaller $N+1$-dimensional matrix.*)"
   ]
  },
  {
   "cell_type": "markdown",
   "metadata": {},
   "source": [
    "*Answer given with the main problem set.*"
   ],
   "id": "20"
  },
  {
   "cell_type": "markdown",
   "metadata": {},
   "source": [
    "### 5.3(f). "
   ],
   "id": "21"
  },
  {
   "cell_type": "markdown",
   "id": "22",
   "metadata": {
    "flags": [
     "problems",
     "solutions"
    ]
   },
   "source": [
    "Let's run a more efficient simulation now by just keeping track of macrostates.  ",
    "Write a new function which takes in the macrostate value $N_1(t)$, and then uses a random number to generate a new value of $N_1(t+1)$ according to $\\mathcal{T}(N_1(t+1) | N_1(t) )$:\n",
    "\n",
    "```\n",
    "def fast_hop_flea(N1, N):\n",
    "    \n",
    "    (...do stuff...)\n",
    "    \n",
    "    return N1_new\n",
    "```\n",
    "    \n",
    "Repeat parts (b) and (c) with $N_1(0) = N$ but now only keeping track only of $N_1(t)$ and using `fast_hop_flea`.  ",
    "Do your results agree? \n",
    "\n",
    "(*Note: For $N = 50$ it may not literally be faster, but it would be for $N = 10^{23}$!*)"
   ]
  },
  {
   "cell_type": "code",
   "metadata": {},
   "source": [
    "#Write your answer here"
   ],
   "outputs": [],
   "execution_count": null,
   "id": "23"
  },
  {
   "cell_type": "markdown",
   "metadata": {},
   "source": [
    "---"
   ],
   "id": "24"
  },
  {
   "cell_type": "markdown",
   "metadata": {},
   "source": [
    "## Problem 5.4: Large $N$ Effect (Not for Credit)"
   ],
   "id": "25"
  },
  {
   "cell_type": "markdown",
   "metadata": {},
   "source": [
    "### Learning objectives\n",
    "In this question you will:\n",
    "\n",
    "- observe how $e^{-Nf(x)}$ becomes sharply peaked for large $N$ around the global minima of $f(x)$\n"
   ],
   "id": "26"
  },
  {
   "cell_type": "markdown",
   "metadata": {},
   "source": [
    "### 5.4(a). "
   ],
   "id": "27"
  },
  {
   "cell_type": "markdown",
   "metadata": {
    "flags": [
     "problems",
     "solutions"
    ]
   },
   "source": [
    "Consider the function $$f(x)=x^2.$$",
    "Plot $f(x)$ and the scaled (such that the maximum is 1) functions $e^{-Nf(x)}$ for $N=1,10,100,1000$. \n",
    "\n",
    "(*Note: The purpose of this part is to show you that when $N$ is large, the exponential $e^{-Nf(x)}$ displays an overpowering and sharp peak around the point where $f(x)$ is minimized.  This is what we call the \"large $N$\" effect.*)"
   ],
   "id": "28"
  },
  {
   "cell_type": "code",
   "metadata": {},
   "source": [
    "#Write your answer here"
   ],
   "outputs": [],
   "execution_count": null,
   "id": "29"
  },
{
   "cell_type": "markdown",
   "metadata": {},
   "source": [
    "### 5.4(b). "
   ],
   "id": "30"
  },
  {
   "cell_type": "markdown",
   "metadata": {
    "flags": [
     "problems",
     "solutions"
    ]
   },
   "source": [
    "Consider the function $$f(x)={x\\over 10}-{x^2\\over 2}+{x^4\\over 4}.$$",
    "Plot $f(x)$ and the scaled (such that the maximum is 1) functions $e^{-Nf(x)}$ for $N=1,10,100,1000$. \n", 
    "\n",
    "(*Note: The purpose of this part is to show you that the \"large $N$\" effect is still valid when our functions have multiple minima and that it is the global minima that matter.*)"
   ],
   "id": "31"
  },
  {
   "cell_type": "code",
   "metadata": {},
   "source": [
    "#Write your answer here"
   ],
   "outputs": [],
   "execution_count": null,
   "id": "32"
  },
  {
   "cell_type": "markdown",
   "metadata": {},
   "source": [
    "### 5.4(c). "
   ],
   "id": "33"
  },
  {
   "cell_type": "markdown",
   "metadata": {
    "flags": [
     "problems",
     "solutions"
    ]
   },
   "source": [
    "Consider the function $$f(x,y)={1\\over 2}(x^2+y^2)+{1\\over 4}(x^2+y^2)^2.$$",
    "Plot $f(x,y)$ and the scaled (such that the maximum is 1) functions $e^{-N f(x,y)}$ for $N=1,10,100,1000$. \n",
    "\n",
    "(*Note: The purpose of this part is to show you that the \"large N\" effect is still valid even when we have functions of multiple variables.*)\n",
    "\n",
    "Hint: see the numpy array tutorial ([GitHub](https://github.com/berkeley-physics/Python-Tutorials/blob/master/2%20-%20Intermediate/3%20-%20NumPy%20arrays.ipynb), [DataHub](https://datahub.berkeley.edu/hub/user-redirect/git-pull?repo=https%3A%2F%2Fgithub.com%2Fberkeley-physics%2FPython-Tutorials&urlpath=tree%2FPython-Tutorials%2F2+-+Intermediate%2F3+-+NumPy+arrays.ipynb&branch=master)) to learn how to make a 3d or 2d colour plot. Also, Mathematica is very convenient for 3d plotting."
   ],
   "id": "34"
  },
  {
   "cell_type": "code",
   "metadata": {},
   "source": [
    "#Write your answer here"
   ],
   "outputs": [],
   "execution_count": null,
   "id": "35"
  }
 ],
 "metadata": {
  "kernelspec": {
   "display_name": "Python [default]",
   "language": "python",
   "name": "python3"
  },
  "language_info": {
   "codemirror_mode": {
    "name": "ipython",
    "version": 3
   },
   "file_extension": ".py",
   "mimetype": "text/x-python",
   "name": "python",
   "nbconvert_exporter": "python",
   "pygments_lexer": "ipython3",
   "version": "3.6.8"
  }
 },
 "nbformat": 4,
 "nbformat_minor": 5
}
